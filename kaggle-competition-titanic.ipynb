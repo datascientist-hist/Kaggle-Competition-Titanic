{
 "cells": [
  {
   "cell_type": "markdown",
   "id": "fcbabfa8",
   "metadata": {
    "_cell_guid": "b1076dfc-b9ad-4769-8c92-a6c4dae69d19",
    "_uuid": "8f2839f25d086af736a60e9eeb907d3b93b6e0e5",
    "execution": {
     "iopub.execute_input": "2022-08-29T16:19:21.880075Z",
     "iopub.status.busy": "2022-08-29T16:19:21.879623Z",
     "iopub.status.idle": "2022-08-29T16:19:21.914670Z",
     "shell.execute_reply": "2022-08-29T16:19:21.913851Z",
     "shell.execute_reply.started": "2022-08-29T16:19:21.879978Z"
    },
    "papermill": {
     "duration": 0.004573,
     "end_time": "2022-08-29T16:31:16.182401",
     "exception": false,
     "start_time": "2022-08-29T16:31:16.177828",
     "status": "completed"
    },
    "tags": []
   },
   "source": [
    "# Titanic Project Example Walk Through \n",
    "The goal is to correctly predict if someone survived the Titanic shipwreck.\n",
    "\n",
    "## Overview \n",
    "### 1) Understand the shape of the data (Histograms, box plots, etc.)\n",
    "\n",
    "### 2) Data Cleaning \n",
    "\n",
    "### 3) Data Exploration\n",
    "\n",
    "### 4) Feature Engineering \n",
    "\n",
    "### 5) Data Preprocessing for Model\n",
    "\n",
    "### 6) Basic Model Building \n",
    "\n",
    "### 7) Model Tuning \n",
    "\n",
    "### 8) Ensemble Modle Building \n",
    "\n",
    "### 9) Results "
   ]
  },
  {
   "cell_type": "code",
   "execution_count": 1,
   "id": "0c40620f",
   "metadata": {
    "execution": {
     "iopub.execute_input": "2022-08-29T16:31:16.191804Z",
     "iopub.status.busy": "2022-08-29T16:31:16.191166Z",
     "iopub.status.idle": "2022-08-29T16:31:16.209372Z",
     "shell.execute_reply": "2022-08-29T16:31:16.208065Z"
    },
    "papermill": {
     "duration": 0.025883,
     "end_time": "2022-08-29T16:31:16.212339",
     "exception": false,
     "start_time": "2022-08-29T16:31:16.186456",
     "status": "completed"
    },
    "tags": []
   },
   "outputs": [
    {
     "name": "stdout",
     "output_type": "stream",
     "text": [
      "/kaggle/input/titanic/train.csv\n",
      "/kaggle/input/titanic/test.csv\n",
      "/kaggle/input/titanic/gender_submission.csv\n"
     ]
    }
   ],
   "source": [
    "# This Python 3 environment comes with many helpful analytics libraries installed\n",
    "# It is defined by the kaggle/python Docker image: https://github.com/kaggle/docker-python\n",
    "# For example, here's several helpful packages to load\n",
    "\n",
    "import numpy as np # linear algebra\n",
    "import pandas as pd # data processing, CSV file I/O (e.g. pd.read_csv)\n",
    "\n",
    "# Input data files are available in the read-only \"../input/\" directory\n",
    "# For example, running this (by clicking run or pressing Shift+Enter) will list all files under the input directory\n",
    "\n",
    "import os\n",
    "for dirname, _, filenames in os.walk('/kaggle/input'):\n",
    "    for filename in filenames:\n",
    "        print(os.path.join(dirname, filename))\n",
    "\n",
    "# You can write up to 20GB to the current directory (/kaggle/working/) that gets preserved as output when you create a version using \"Save & Run All\" \n",
    "# You can also write temporary files to /kaggle/temp/, but they won't be saved outside of the current session"
   ]
  },
  {
   "cell_type": "markdown",
   "id": "da8bf620",
   "metadata": {
    "papermill": {
     "duration": 0.002953,
     "end_time": "2022-08-29T16:31:16.218752",
     "exception": false,
     "start_time": "2022-08-29T16:31:16.215799",
     "status": "completed"
    },
    "tags": []
   },
   "source": [
    "Here we import the data. For this analysis, we will be exclusively working with the Training set. We will be validating based on data from the training set as well. For our final submissions, we will make predictions based on the test set. "
   ]
  },
  {
   "cell_type": "code",
   "execution_count": 2,
   "id": "9cb30f31",
   "metadata": {
    "execution": {
     "iopub.execute_input": "2022-08-29T16:31:16.226856Z",
     "iopub.status.busy": "2022-08-29T16:31:16.226068Z",
     "iopub.status.idle": "2022-08-29T16:31:16.285007Z",
     "shell.execute_reply": "2022-08-29T16:31:16.282433Z"
    },
    "papermill": {
     "duration": 0.067806,
     "end_time": "2022-08-29T16:31:16.289478",
     "exception": false,
     "start_time": "2022-08-29T16:31:16.221672",
     "status": "completed"
    },
    "tags": []
   },
   "outputs": [
    {
     "data": {
      "text/plain": [
       "Index(['PassengerId', 'Survived', 'Pclass', 'Name', 'Sex', 'Age', 'SibSp',\n",
       "       'Parch', 'Ticket', 'Fare', 'Cabin', 'Embarked', 'train_test'],\n",
       "      dtype='object')"
      ]
     },
     "execution_count": 2,
     "metadata": {},
     "output_type": "execute_result"
    }
   ],
   "source": [
    "training = pd.read_csv('/kaggle/input/titanic/train.csv')\n",
    "test = pd.read_csv('/kaggle/input/titanic/test.csv')\n",
    "\n",
    "training['train_test'] = 1\n",
    "test['train_test'] = 0\n",
    "test['Survived'] = np.NaN\n",
    "all_data = pd.concat([training,test])\n",
    "\n",
    "%matplotlib inline\n",
    "all_data.columns"
   ]
  },
  {
   "cell_type": "markdown",
   "id": "b0c73ad2",
   "metadata": {
    "papermill": {
     "duration": 0.003234,
     "end_time": "2022-08-29T16:31:16.296418",
     "exception": false,
     "start_time": "2022-08-29T16:31:16.293184",
     "status": "completed"
    },
    "tags": []
   },
   "source": [
    "## Project Planning\n",
    "When starting any project, It would be right to outline the steps that we plan to take. Below is the rough outline that I created for this project using commented cells. "
   ]
  },
  {
   "cell_type": "code",
   "execution_count": 3,
   "id": "7c0ea693",
   "metadata": {
    "execution": {
     "iopub.execute_input": "2022-08-29T16:31:16.304948Z",
     "iopub.status.busy": "2022-08-29T16:31:16.304204Z",
     "iopub.status.idle": "2022-08-29T16:31:16.310084Z",
     "shell.execute_reply": "2022-08-29T16:31:16.309184Z"
    },
    "papermill": {
     "duration": 0.012726,
     "end_time": "2022-08-29T16:31:16.312284",
     "exception": false,
     "start_time": "2022-08-29T16:31:16.299558",
     "status": "completed"
    },
    "tags": []
   },
   "outputs": [],
   "source": [
    "# Understand nature of the data .info() .describe()\n",
    "# Histograms and boxplots \n",
    "# Value counts \n",
    "# Missing data \n",
    "# Correlation between the metrics \n",
    "# Explore interesting themes \n",
    "    # Wealthy survive? \n",
    "    # By location \n",
    "    # Age scatterplot with ticket price \n",
    "    # Young and wealthy Variable? \n",
    "    # Total spent? \n",
    "# Feature engineering \n",
    "# preprocess data together or use a transformer? \n",
    "    # use label for train and test   \n",
    "# Scaling?\n",
    "\n",
    "# Model Baseline \n",
    "# Model comparison with CV "
   ]
  },
  {
   "cell_type": "markdown",
   "id": "d5c480e1",
   "metadata": {
    "papermill": {
     "duration": 0.002649,
     "end_time": "2022-08-29T16:31:16.318059",
     "exception": false,
     "start_time": "2022-08-29T16:31:16.315410",
     "status": "completed"
    },
    "tags": []
   },
   "source": [
    "## 1) Understand the shape of the data\n",
    "### 1) For numeric data \n",
    "* Made histograms to understand distributions \n",
    "* Corrplot \n",
    "* Pivot table comparing survival rate across numeric variables \n",
    "\n",
    "\n",
    "### 2) For Categorical Data \n",
    "* Made bar charts to understand balance of classes \n",
    "* Made pivot tables to understand relationship with survival "
   ]
  }
 ],
 "metadata": {
  "kernelspec": {
   "display_name": "Python 3",
   "language": "python",
   "name": "python3"
  },
  "language_info": {
   "codemirror_mode": {
    "name": "ipython",
    "version": 3
   },
   "file_extension": ".py",
   "mimetype": "text/x-python",
   "name": "python",
   "nbconvert_exporter": "python",
   "pygments_lexer": "ipython3",
   "version": "3.7.12"
  },
  "papermill": {
   "default_parameters": {},
   "duration": 12.909182,
   "end_time": "2022-08-29T16:31:17.044334",
   "environment_variables": {},
   "exception": null,
   "input_path": "__notebook__.ipynb",
   "output_path": "__notebook__.ipynb",
   "parameters": {},
   "start_time": "2022-08-29T16:31:04.135152",
   "version": "2.3.4"
  }
 },
 "nbformat": 4,
 "nbformat_minor": 5
}
